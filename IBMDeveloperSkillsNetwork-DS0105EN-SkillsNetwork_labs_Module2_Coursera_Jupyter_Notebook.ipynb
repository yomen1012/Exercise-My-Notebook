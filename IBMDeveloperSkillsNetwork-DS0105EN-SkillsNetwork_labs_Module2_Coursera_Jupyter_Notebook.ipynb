{
  "metadata": {
    "kernelspec": {
      "name": "python",
      "display_name": "Pyolite",
      "language": "python"
    },
    "language_info": {
      "codemirror_mode": {
        "name": "python",
        "version": 3
      },
      "file_extension": ".py",
      "mimetype": "text/x-python",
      "name": "python",
      "nbconvert_exporter": "python",
      "pygments_lexer": "ipython3",
      "version": "3.8"
    }
  },
  "nbformat_minor": 4,
  "nbformat": 4,
  "cells": [
    {
      "cell_type": "markdown",
      "source": "<center>\n    <img src=\"https://cf-courses-data.s3.us.cloud-object-storage.appdomain.cloud/IBMDeveloperSkillsNetwork-DS0105EN-SkillsNetwork/labs/Module2/images/SN_web_lightmode.png\" width=\"300\" alt=\"cognitiveclass.ai logo\"  />\n</center>\n",
      "metadata": {}
    },
    {
      "cell_type": "markdown",
      "source": "#### Add your code below following the instructions given in the course\n",
      "metadata": {}
    },
    {
      "cell_type": "markdown",
      "source": "# My Jupyter Notebook on IBM Watson Studio",
      "metadata": {}
    },
    {
      "cell_type": "markdown",
      "source": "### Yoseph Michael Menanti\nPetroleum / Renewable Energy Engineer",
      "metadata": {}
    },
    {
      "cell_type": "markdown",
      "source": "_I am Interested in data science because its help me to understand and manages the datas and with appropriate tools can help to solve the problem, make improvement and give additional values to stakeholder_",
      "metadata": {}
    },
    {
      "cell_type": "markdown",
      "source": "### Formula to Calculate Pressure Drop in Pipeline : Delta Pressure / Pipe Length = (Darcy Factor x V^2 x Density )/ 2 x Diameter",
      "metadata": {}
    },
    {
      "cell_type": "markdown",
      "source": "Pipe length = 100 m\nDarcy Factor = 0.03\nfluid velocity = 100 m/s\nfluid density = 1000 kg/m3\ndiameter = 1 m\n\nDelta pressure in Pa",
      "metadata": {}
    },
    {
      "cell_type": "code",
      "source": "100*((0.03*pow(100,2)*1000)/(2*1))",
      "metadata": {
        "trusted": true
      },
      "execution_count": 14,
      "outputs": [
        {
          "execution_count": 14,
          "output_type": "execute_result",
          "data": {
            "text/plain": "15000000.0"
          },
          "metadata": {}
        }
      ]
    },
    {
      "cell_type": "markdown",
      "source": "-------------------------------------------------------------------------------------------------------------------",
      "metadata": {}
    },
    {
      "cell_type": "markdown",
      "source": "* Delta Pressure\n* Pipe Length\n* Darcy factor\n* Fluid velocity\n* Fluid Density\n* Diameter",
      "metadata": {}
    },
    {
      "cell_type": "markdown",
      "source": "Markdown | Less | Pretty\n--- | --- | ---\n*Still* | `renders` | **nicely**\n1 | 2 | 3",
      "metadata": {}
    },
    {
      "cell_type": "markdown",
      "source": "<a href=\"https://dataplatform.cloud.ibm.com/gallery\">IBM Cloud Gallery</a> \n",
      "metadata": {}
    },
    {
      "cell_type": "code",
      "source": "",
      "metadata": {},
      "execution_count": null,
      "outputs": []
    }
  ]
}